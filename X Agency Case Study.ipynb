{
 "cells": [
  {
   "cell_type": "markdown",
   "metadata": {},
   "source": [
    "# X Agency Case Study"
   ]
  },
  {
   "cell_type": "markdown",
   "metadata": {},
   "source": [
    "Brand image is a key factor in many high-end or luxury leaning brands. Dilma's Socks is one of such growing companies, and should rightly be concerned about the manner that customers consider their image. As a result of a recent shipping mishap, there was a spike in call volumes. An investigation into this led to an unexpected conclusion: current call centre representatives may not be adequate purveyors of Dilma's brand image.\n",
    "\n",
    "Given this, X Agency was given the task to improve the call centre service. Two solutions were offered:\n",
    "\n",
    "1. Retrain the call centre representatives with a human-centric approach.\n",
    "2. Improve brand image through incentivisation of a \"Free Socks For Life\" competition.\n",
    "\n",
    "Survey data was collected for customers that spoke to a call centre agent of one of the two categories, or a call centre agent who engaged in both. Thus, we had four treatment groups:\n",
    "\n",
    "1. Control Group\n",
    "2. Human-Focused Group\n",
    "3. Incentive Group\n",
    "4. Interaction Group (Both 3 and 4)\n",
    "\n",
    "Data was provided in .csv with 101 entries for the Control, Human Focused, and Incentive groups, and 81 entries for the Interaction group.\n",
    "\n",
    "With this data, we aim to answer three questions:\n",
    "\n",
    "\n",
    "1. Which approach (or combination) had the most positive impact on a customer’s perception of Dilma's Socks?\n",
    "2. Which approach (or combination) had the most positive impact on a customer’s comprehension of Dilma's Socks’ products and services?\n",
    "3. Which method (or combination) had the highest likelihood of customers recommending DS to their friends?"
   ]
  },
  {
   "cell_type": "markdown",
   "metadata": {},
   "source": [
    "## Data Cleaning and Organisation"
   ]
  },
  {
   "cell_type": "markdown",
   "metadata": {},
   "source": [
    "A large amount of survey data is often collected somewhat roughly. Fortunately, there are a number of tools that will allow us to process, organise, analyse, and visualise. We will be using Python, and will call upon libraries such as Pandas, SciPy, MatPlotLib, and Seaborn to perform the aforementioned.\n",
    "\n",
    "Let's begin by importing the data and renaming the column titles to their corresponding question number as listed in the survey."
   ]
  },
  {
   "cell_type": "code",
   "execution_count": 1,
   "metadata": {},
   "outputs": [],
   "source": [
    "%matplotlib inline\n",
    "\n",
    "import pandas as pd\n",
    "\n",
    "survey = pd.read_csv('Question Materials/Mock Call Centre Data.csv')\n",
    "\n",
    "survey.rename(columns={'Q11': 'Q2', 'Q35': 'Q3', 'Q17_1': 'Q5',\n",
    "                   'Q19_1': 'Q6', 'Q21_1': 'Q7', 'Q12': 'Q8',\n",
    "                   'Q5': 'Q11', 'Q36': 'Q13', 'Q38': 'Q14', \n",
    "                   'Q55': 'Q15', 'Q57': 'Q16', 'Q39': 'Q17', 'Q39.1': 'Q18'}, inplace=True)"
   ]
  },
  {
   "cell_type": "markdown",
   "metadata": {},
   "source": [
    "Let's now remove some columns that won't be necessary for our analysis, in order to make dataframe processing a little more straightforward. We'll also remove the first and second rows as they offer nothing to our analysis and, in fact, clutter up our dataframe. We'll also reset the row indices to make things cleaner.\n",
    "\n",
    "Then, we'll convert certain columns from strings to numbers in order to appropriately process the data. We'll also need to convert the \"Yes\" and \"No\" responses in Q8 into binomial data that we can work with."
   ]
  },
  {
   "cell_type": "code",
   "execution_count": 2,
   "metadata": {},
   "outputs": [],
   "source": [
    "columns = ['StartDate', 'EndDate', 'Status', 'IPAddress', 'Progress', 'Finished', 'RecordedDate', \n",
    " 'RecipientLastName', 'RecipientFirstName', 'RecipientEmail', \n",
    " 'ExternalReference', 'LocationLatitude', 'LocationLongitude', \n",
    " 'DistributionChannel', 'UserLanguage']\n",
    "\n",
    "survey.drop(columns, inplace=True, axis=1)\n",
    "\n",
    "survey.drop([0,1], inplace = True)\n",
    "\n",
    "survey.reset_index(drop = True, inplace = True) # We reset the starting index for clarity.\n",
    "\n",
    "tonums = ['Q5', 'Q6', 'Q7', 'Q13']\n",
    "survey[tonums] = survey[tonums].apply(pd.to_numeric, errors='coerce', axis=1)\n",
    "\n",
    "survey.loc[survey['Q8'] == 'Yes', 'Q8'] = '1' # Converting values to the strings of 1 and 0.\n",
    "survey.loc[survey['Q8'] == 'No', 'Q8'] = '0'\n",
    "survey['Q8'] = pd.to_numeric(survey['Q8']) # Converting the column to a numeric column."
   ]
  },
  {
   "cell_type": "markdown",
   "metadata": {},
   "source": [
    "Then, we'll add a column that will signify group membership for each customer. Group membership is denoted by the number of characters in their survey number that was assigned when the survey was given."
   ]
  },
  {
   "cell_type": "code",
   "execution_count": 3,
   "metadata": {},
   "outputs": [],
   "source": [
    "survey.loc[survey['Q2'].apply(lambda x: len(x) == 3), 'Group'] = 'Control'\n",
    "survey.loc[survey['Q2'].apply(lambda x: len(x) == 4), 'Group'] = 'Human'\n",
    "survey.loc[survey['Q2'].apply(lambda x: len(x) == 5), 'Group'] = 'Incentive'\n",
    "survey.loc[survey['Q2'].apply(lambda x: len(x) == 6), 'Group'] = 'Interaction'"
   ]
  },
  {
   "cell_type": "markdown",
   "metadata": {},
   "source": [
    "## 1. Which approach (or combination) had the most positive impact on a customer’s perception of Dilma's Socks?"
   ]
  },
  {
   "cell_type": "markdown",
   "metadata": {},
   "source": [
    "Looking over the survey, there are three questions that relate directly to customer perception of Dilma's. \n",
    "\n",
    "Questions 5, 6, and 7 ask to rate from 1 to 7 (strongly disagree to strongly agree) the following statements:\n",
    "\n",
    "- Dilma's Socks cares about my needs as a customer.\n",
    "- Dilma's Socks produces high-quality, dependable socks.\n",
    "- I have a favourable opinion of Dilma's Socks.\n",
    "\n",
    "We can create a mean column, entitled PAvg that will take into account our three perception metrics that will allow us to perform analysis."
   ]
  },
  {
   "cell_type": "code",
   "execution_count": 4,
   "metadata": {},
   "outputs": [],
   "source": [
    "survey['PAvg'] = (survey['Q5'] + survey['Q6'] + survey['Q7'])/3"
   ]
  },
  {
   "cell_type": "markdown",
   "metadata": {},
   "source": [
    "Before conducting analysis on our PAvg, we need to consider the reason for the customer's call. If the initial reason for the call was to complain or to ask for a refund, it is not illogical to assume that the company's perception would be negatively influenced. This is in comparison to a caller who may have called as a result of more neutral reasons, such as asking general questions about Dilma's, asking for a size exchange, or an unrelated inquiry.\n",
    "\n",
    "To test this, we can segment our samples into two datasets, one where the customer may have called as a result of a negative reason, and one for a neutral reason."
   ]
  },
  {
   "cell_type": "code",
   "execution_count": 5,
   "metadata": {},
   "outputs": [],
   "source": [
    "negative = pd.DataFrame()\n",
    "neutral = pd.DataFrame()\n",
    "\n",
    "\n",
    "negative = negative.append([survey[survey['Q3'] == 'Customer Complaint'],\n",
    "                            survey[survey['Q3'] == 'Calling for a refund']])\n",
    "\n",
    "neutral = neutral.append([survey[survey['Q3'] == \"Socks didn't fit, calling to exchange\"], \n",
    "                          survey[survey['Q3'] == \"Questions about Dilma's Socks\"],\n",
    "                          survey[survey['Q3'] == 'Other']])"
   ]
  },
  {
   "cell_type": "markdown",
   "metadata": {},
   "source": [
    "Now, we can perform a t-test to determine whether there is a significant difference between the two dataset means. \n",
    "\n",
    "For this analysis, we will assume that p < 0.05 will be significant. It is common to use p < 0.1 in behavioural science, but p < 0.05 will reduce the incidence of Type 1 errors for this study.\n",
    "\n",
    "We will also consider the number of people that called for the two reasons, and their means."
   ]
  },
  {
   "cell_type": "code",
   "execution_count": 6,
   "metadata": {},
   "outputs": [
    {
     "name": "stdout",
     "output_type": "stream",
     "text": [
      "Means: 3.925373134328358, 4.386666666666666\n",
      "Size: 134, 250\n",
      "13.681489334517579 0.00024833921063074324\n"
     ]
    }
   ],
   "source": [
    "print('Means: ' + str(negative['PAvg'].mean()) + ', ' + str(neutral['PAvg'].mean()))\n",
    "\n",
    "print('Size: ' + str(negative.shape[0]) + ', ' + str(neutral.shape[0])) \n",
    "\n",
    "from scipy import stats\n",
    "\n",
    "t, p = stats.f_oneway(negative['PAvg'], neutral['PAvg'])\n",
    "\n",
    "print(t, p)"
   ]
  },
  {
   "cell_type": "markdown",
   "metadata": {},
   "source": [
    "Our p value is ~ 0.0002, which is less than our threshold of 0.05. This indicates that results may be influenced as a result of calls that could have negative reasons behind them.\n",
    "\n",
    "Fortunately, as our experiment is only concerned with the effect of the call centre agent's approach on customer perception, this data can be included in our dataset for analysis, as we are also concerned with customers with an initial negative perception. This information, however, could be useful for analysis in future, whereby different customer groups may respond differently to the various approaches.\n",
    "\n",
    "We are now in a good place to begin answering the three questions. Before we begin, let us take a look at the means of our relevant columns."
   ]
  },
  {
   "cell_type": "code",
   "execution_count": 7,
   "metadata": {},
   "outputs": [
    {
     "data": {
      "text/html": [
       "<div>\n",
       "<style scoped>\n",
       "    .dataframe tbody tr th:only-of-type {\n",
       "        vertical-align: middle;\n",
       "    }\n",
       "\n",
       "    .dataframe tbody tr th {\n",
       "        vertical-align: top;\n",
       "    }\n",
       "\n",
       "    .dataframe thead th {\n",
       "        text-align: right;\n",
       "    }\n",
       "</style>\n",
       "<table border=\"1\" class=\"dataframe\">\n",
       "  <thead>\n",
       "    <tr style=\"text-align: right;\">\n",
       "      <th></th>\n",
       "      <th>Q5</th>\n",
       "      <th>Q6</th>\n",
       "      <th>Q7</th>\n",
       "      <th>PAvg</th>\n",
       "    </tr>\n",
       "    <tr>\n",
       "      <th>Group</th>\n",
       "      <th></th>\n",
       "      <th></th>\n",
       "      <th></th>\n",
       "      <th></th>\n",
       "    </tr>\n",
       "  </thead>\n",
       "  <tbody>\n",
       "    <tr>\n",
       "      <th>Control</th>\n",
       "      <td>4.029703</td>\n",
       "      <td>3.881188</td>\n",
       "      <td>4.059406</td>\n",
       "      <td>3.990099</td>\n",
       "    </tr>\n",
       "    <tr>\n",
       "      <th>Human</th>\n",
       "      <td>4.475248</td>\n",
       "      <td>4.524752</td>\n",
       "      <td>4.415842</td>\n",
       "      <td>4.471947</td>\n",
       "    </tr>\n",
       "    <tr>\n",
       "      <th>Incentive</th>\n",
       "      <td>4.435644</td>\n",
       "      <td>4.445545</td>\n",
       "      <td>4.465347</td>\n",
       "      <td>4.448845</td>\n",
       "    </tr>\n",
       "    <tr>\n",
       "      <th>Interaction</th>\n",
       "      <td>3.975309</td>\n",
       "      <td>3.950617</td>\n",
       "      <td>3.876543</td>\n",
       "      <td>3.934156</td>\n",
       "    </tr>\n",
       "  </tbody>\n",
       "</table>\n",
       "</div>"
      ],
      "text/plain": [
       "                   Q5        Q6        Q7      PAvg\n",
       "Group                                              \n",
       "Control      4.029703  3.881188  4.059406  3.990099\n",
       "Human        4.475248  4.524752  4.415842  4.471947\n",
       "Incentive    4.435644  4.445545  4.465347  4.448845\n",
       "Interaction  3.975309  3.950617  3.876543  3.934156"
      ]
     },
     "execution_count": 7,
     "metadata": {},
     "output_type": "execute_result"
    }
   ],
   "source": [
    "survey.groupby('Group').mean()[['Q5', 'Q6', 'Q7', 'PAvg']]"
   ]
  },
  {
   "cell_type": "markdown",
   "metadata": {},
   "source": [
    "On a cursory basis, it appears as though the Human and Incentive groups had a positive effect on the perception of Dilma's Socks. Interaction appears to be unchanged. "
   ]
  },
  {
   "cell_type": "markdown",
   "metadata": {},
   "source": [
    "### Kruskal-Wallis Test"
   ]
  },
  {
   "cell_type": "markdown",
   "metadata": {},
   "source": [
    "In order to determine whether there is a significant difference in perception between the various call centre groups, we need to perform a test of variance between the groups. \n",
    "\n",
    "Normally, this would be the ideal scenario for a univariate ANOVA. However, there are some problems that are associated with this. ANOVA is normally used on parametric data, as it assumes a normal distribution. Since our survey data is ordinal, it is by definition non-parametric. There is some debate as to whether ANOVA can be used for non-parametric data, and it is ultimately contingent on the circumstance of the experiment itself.\n",
    "\n",
    "In this case, there is a superior alternative in the Kruskal-Wallis test. This particular test is oriented better towards non-parametric data as it uses the median as opposed to the mean in order to determine the variance between groups. This reduces the incidence of Type 1 errors in non-parametric data and will work nicely with the data we have.\n",
    "\n",
    "Let's first plot histograms of our data to confirm visually that the data doesn't follow a normal distribution."
   ]
  },
  {
   "cell_type": "code",
   "execution_count": 8,
   "metadata": {},
   "outputs": [
    {
     "data": {
      "image/png": "[encoded data removed]",
      "text/plain": [
       "<Figure size 864x576 with 4 Axes>"
      ]
     },
     "metadata": {
      "needs_background": "light"
     },
     "output_type": "display_data"
    }
   ],
   "source": [
    "survey.hist('PAvg', by='Group', figsize=(12, 8))\n",
    "\n",
    "groups = pd.unique(survey['Group'].values) \n",
    "d_data = {grp:survey['PAvg'][survey['Group'] == grp] for grp in groups} # Segmenting the data into separate groups."
   ]
  },
  {
   "cell_type": "markdown",
   "metadata": {},
   "source": [
    "Now, we can perform our Kruskal-Wallis using SciPy's built-in tools."
   ]
  },
  {
   "cell_type": "code",
   "execution_count": 9,
   "metadata": {},
   "outputs": [
    {
     "name": "stdout",
     "output_type": "stream",
     "text": [
      "16.56030009887589 0.000870223684036526\n"
     ]
    }
   ],
   "source": [
    "from scipy import stats\n",
    "\n",
    "H, p = stats.kruskal(d_data['Control'], d_data['Human'], d_data['Incentive'], d_data['Interaction'])\n",
    "\n",
    "print(H, p)"
   ]
  },
  {
   "cell_type": "markdown",
   "metadata": {},
   "source": [
    "With our p-value being less than 0.05, there is a significant difference between our various groups, indicating that the varied approaches by our call centre agents have had an impact on our customer's perception of Dilma's."
   ]
  },
  {
   "cell_type": "markdown",
   "metadata": {},
   "source": [
    "### Dunn's Test"
   ]
  },
  {
   "cell_type": "markdown",
   "metadata": {},
   "source": [
    "We cannot simply use a t-test in a pairwise comparison of the Control group to the others as it adds the possibility for Type 1 error at each step. With this in mind, we can proceed with a post-hoc test to determine which approach had the best impact, in pairwise comparison with our control group.\n",
    "\n",
    "Dunn's test is one of such post-hoc tests that we can use, as it is purposed towards non-parametric data. We will use a SciPy module aimed directly at post-hoc tests to perform it. It will return a z-score approximation to a rank sum, indicating which approach had the most impact."
   ]
  },
  {
   "cell_type": "code",
   "execution_count": 10,
   "metadata": {},
   "outputs": [
    {
     "data": {
      "text/html": [
       "<div>\n",
       "<style scoped>\n",
       "    .dataframe tbody tr th:only-of-type {\n",
       "        vertical-align: middle;\n",
       "    }\n",
       "\n",
       "    .dataframe tbody tr th {\n",
       "        vertical-align: top;\n",
       "    }\n",
       "\n",
       "    .dataframe thead th {\n",
       "        text-align: right;\n",
       "    }\n",
       "</style>\n",
       "<table border=\"1\" class=\"dataframe\">\n",
       "  <thead>\n",
       "    <tr style=\"text-align: right;\">\n",
       "      <th></th>\n",
       "      <th>Control</th>\n",
       "      <th>Human</th>\n",
       "      <th>Incentive</th>\n",
       "      <th>Interaction</th>\n",
       "    </tr>\n",
       "  </thead>\n",
       "  <tbody>\n",
       "    <tr>\n",
       "      <th>Control</th>\n",
       "      <td>-1.000000</td>\n",
       "      <td>0.003997</td>\n",
       "      <td>0.005532</td>\n",
       "      <td>0.795557</td>\n",
       "    </tr>\n",
       "    <tr>\n",
       "      <th>Human</th>\n",
       "      <td>0.003997</td>\n",
       "      <td>-1.000000</td>\n",
       "      <td>0.917122</td>\n",
       "      <td>0.002933</td>\n",
       "    </tr>\n",
       "    <tr>\n",
       "      <th>Incentive</th>\n",
       "      <td>0.005532</td>\n",
       "      <td>0.917122</td>\n",
       "      <td>-1.000000</td>\n",
       "      <td>0.004021</td>\n",
       "    </tr>\n",
       "    <tr>\n",
       "      <th>Interaction</th>\n",
       "      <td>0.795557</td>\n",
       "      <td>0.002933</td>\n",
       "      <td>0.004021</td>\n",
       "      <td>-1.000000</td>\n",
       "    </tr>\n",
       "  </tbody>\n",
       "</table>\n",
       "</div>"
      ],
      "text/plain": [
       "              Control     Human  Incentive  Interaction\n",
       "Control     -1.000000  0.003997   0.005532     0.795557\n",
       "Human        0.003997 -1.000000   0.917122     0.002933\n",
       "Incentive    0.005532  0.917122  -1.000000     0.004021\n",
       "Interaction  0.795557  0.002933   0.004021    -1.000000"
      ]
     },
     "execution_count": 10,
     "metadata": {},
     "output_type": "execute_result"
    }
   ],
   "source": [
    "import scikit_posthocs as sp\n",
    "\n",
    "dunn = sp.posthoc_dunn(survey, val_col='PAvg', group_col='Group')\n",
    "\n",
    "pd.DataFrame(dunn) # Formatted in a Dataframe for visibility."
   ]
  },
  {
   "cell_type": "markdown",
   "metadata": {},
   "source": [
    "We can plot this on a significance plot in order to visualise the significant relationships between groups."
   ]
  },
  {
   "cell_type": "code",
   "execution_count": 11,
   "metadata": {},
   "outputs": [
    {
     "data": {
      "text/plain": [
       "(<matplotlib.axes._subplots.AxesSubplot at 0x116c95438>,\n",
       " <matplotlib.colorbar.ColorbarBase at 0x116d057b8>)"
      ]
     },
     "execution_count": 11,
     "metadata": {},
     "output_type": "execute_result"
    },
    {
     "data": {
      "image/png": "[encoded data removed]",
      "text/plain": [
       "<Figure size 432x288 with 2 Axes>"
      ]
     },
     "metadata": {
      "needs_background": "light"
     },
     "output_type": "display_data"
    }
   ],
   "source": [
    "cmap = ['1', '#fb6a4a',  '#08306b',  '#4292c6', '#c6dbef'] # Use custom colours for visual acuity.\n",
    "heatmap_args = {'cmap': cmap, 'linewidths': 0.25, 'linecolor': '0.5', \n",
    "                'clip_on': False, 'square': True, 'cbar_ax_bbox': [0.80, 0.35, 0.04, 0.3]}\n",
    "sp.sign_plot(dunn, **heatmap_args)"
   ]
  },
  {
   "cell_type": "markdown",
   "metadata": {},
   "source": [
    "Given the above comparisons, it is clear that both the Human and Incentive groups are effective at improving customer perception of Dilma's Socks. Interestingly, the customers who were subjected to both had a lower perception of the company than customers who had only one of the two treatments.\n",
    "\n",
    "There is a slight edge to the Human-oriented trained group to the Incentivised group. Considering the cost difference between the two approaches, it is debatable as to whether the Human-oriented training is worth the added expense."
   ]
  },
  {
   "cell_type": "markdown",
   "metadata": {},
   "source": [
    "## Which approach (or combination) had the most positive impact on a customer’s comprehension of Dilma's Socks' products and services?"
   ]
  },
  {
   "cell_type": "markdown",
   "metadata": {},
   "source": [
    "In our survey data, questions 10 and 11 dealt with comprehension of Dilma's socks by asking specific questions about their product. For the purposes of our investigation, we will convert the survey results as currently listed in the columns into a simple 1 for a correct response, and 0 for an incorrect response in new columns entitled Comp1 and Comp2 respectively."
   ]
  },
  {
   "cell_type": "code",
   "execution_count": 12,
   "metadata": {},
   "outputs": [],
   "source": [
    "survey.loc[survey['Q10'] == 'Organic', 'Comp1'] = 1\n",
    "survey.loc[survey['Q11'] == 'Socks that change colour so you never wear mismatched socks again', 'Comp2'] = 1\n",
    "\n",
    "survey['Comp1'].fillna(0, inplace = True) # Replace NaN values with 0 for calculation purposes.\n",
    "survey['Comp2'].fillna(0, inplace = True)"
   ]
  },
  {
   "cell_type": "markdown",
   "metadata": {},
   "source": [
    "We can then take the mean of the two columns to create a \"Comprehension Average\" column that will rate comprehension as 0 for not responding correctly to either question, 0.5 for responding correctly to one of them, and 1 for both."
   ]
  },
  {
   "cell_type": "code",
   "execution_count": 13,
   "metadata": {},
   "outputs": [],
   "source": [
    "survey['CompAvg'] = (survey['Comp1'] + survey['Comp2'])/2"
   ]
  },
  {
   "cell_type": "markdown",
   "metadata": {},
   "source": [
    "Before we do any statistical tests, let's observe if there is any mean variation between the listed columns."
   ]
  },
  {
   "cell_type": "code",
   "execution_count": 14,
   "metadata": {},
   "outputs": [
    {
     "data": {
      "text/html": [
       "<div>\n",
       "<style scoped>\n",
       "    .dataframe tbody tr th:only-of-type {\n",
       "        vertical-align: middle;\n",
       "    }\n",
       "\n",
       "    .dataframe tbody tr th {\n",
       "        vertical-align: top;\n",
       "    }\n",
       "\n",
       "    .dataframe thead th {\n",
       "        text-align: right;\n",
       "    }\n",
       "</style>\n",
       "<table border=\"1\" class=\"dataframe\">\n",
       "  <thead>\n",
       "    <tr style=\"text-align: right;\">\n",
       "      <th></th>\n",
       "      <th>Comp1</th>\n",
       "      <th>Comp2</th>\n",
       "      <th>CompAvg</th>\n",
       "    </tr>\n",
       "    <tr>\n",
       "      <th>Group</th>\n",
       "      <th></th>\n",
       "      <th></th>\n",
       "      <th></th>\n",
       "    </tr>\n",
       "  </thead>\n",
       "  <tbody>\n",
       "    <tr>\n",
       "      <th>Control</th>\n",
       "      <td>0.485149</td>\n",
       "      <td>0.128713</td>\n",
       "      <td>0.306931</td>\n",
       "    </tr>\n",
       "    <tr>\n",
       "      <th>Human</th>\n",
       "      <td>0.554455</td>\n",
       "      <td>0.108911</td>\n",
       "      <td>0.331683</td>\n",
       "    </tr>\n",
       "    <tr>\n",
       "      <th>Incentive</th>\n",
       "      <td>0.564356</td>\n",
       "      <td>0.099010</td>\n",
       "      <td>0.331683</td>\n",
       "    </tr>\n",
       "    <tr>\n",
       "      <th>Interaction</th>\n",
       "      <td>0.469136</td>\n",
       "      <td>0.123457</td>\n",
       "      <td>0.296296</td>\n",
       "    </tr>\n",
       "  </tbody>\n",
       "</table>\n",
       "</div>"
      ],
      "text/plain": [
       "                Comp1     Comp2   CompAvg\n",
       "Group                                    \n",
       "Control      0.485149  0.128713  0.306931\n",
       "Human        0.554455  0.108911  0.331683\n",
       "Incentive    0.564356  0.099010  0.331683\n",
       "Interaction  0.469136  0.123457  0.296296"
      ]
     },
     "execution_count": 14,
     "metadata": {},
     "output_type": "execute_result"
    }
   ],
   "source": [
    "survey.groupby('Group').mean()[['Comp1', 'Comp2', 'CompAvg']]"
   ]
  },
  {
   "cell_type": "markdown",
   "metadata": {},
   "source": [
    "We can plot our CompAvg means on a bar chart to visualise the variation."
   ]
  },
  {
   "cell_type": "code",
   "execution_count": 15,
   "metadata": {},
   "outputs": [
    {
     "data": {
      "text/plain": [
       "<BarContainer object of 4 artists>"
      ]
     },
     "execution_count": 15,
     "metadata": {},
     "output_type": "execute_result"
    },
    {
     "data": {
      "image/png": "[encoded data removed]",
      "text/plain": [
       "<Figure size 432x288 with 1 Axes>"
      ]
     },
     "metadata": {
      "needs_background": "light"
     },
     "output_type": "display_data"
    }
   ],
   "source": [
    "from matplotlib import pyplot\n",
    "\n",
    "survey['Group'].unique()\n",
    "\n",
    "pyplot.bar(['Control', 'Human', 'Incentive', 'Interaction'], survey.groupby('Group').mean()['CompAvg'])"
   ]
  },
  {
   "cell_type": "markdown",
   "metadata": {},
   "source": [
    "There does not appear to be any great difference between each group, but the Human and Incentive appear to be slightly positively influenced. "
   ]
  },
  {
   "cell_type": "markdown",
   "metadata": {},
   "source": [
    "### Chi-Squared Test"
   ]
  },
  {
   "cell_type": "markdown",
   "metadata": {},
   "source": [
    "To determine which group had the greatest significant difference from the control group, we can use a Chi-Squared test for independence. This test is used in binomial distributions of two outcomes and operates by comparing our observed data under treatment to our expected data without treatment.\n",
    "\n",
    "In this case, our treatment groups of Human, Incentive, and Interaction will be compared to our expected results in the Control group. \n",
    "\n",
    "We can use SciPy once again to complete the test."
   ]
  },
  {
   "cell_type": "code",
   "execution_count": 16,
   "metadata": {},
   "outputs": [
    {
     "name": "stdout",
     "output_type": "stream",
     "text": [
      "Power_divergenceResult(statistic=array([0.28801843, 0.28801843, 0.05316291]), pvalue=array([0.59149317, 0.59149317, 0.81764823]))\n"
     ]
    }
   ],
   "source": [
    "# Start by segmenting the data into equally proportioned groups for our observed outcomes.\n",
    "\n",
    "YCGroups = [(survey.loc[survey['Group'] == 'Human', 'CompAvg'].sum()/101) * 100,\n",
    "            (survey.loc[survey['Group'] == 'Incentive', 'CompAvg'].sum()/101) * 100,\n",
    "            (survey.loc[survey['Group'] == 'Interaction', 'CompAvg'].sum()/81)* 100] # This is for correct answers.\n",
    "\n",
    "NCGroups = [(100 - i) for i in YCGroups] # This is for incorrect answers.\n",
    "\n",
    "# We do the same thing for our expected outcomes in our control group.\n",
    "\n",
    "YCExpected = (survey.loc[survey['Group'] == 'Control', 'CompAvg'].sum()/101) * 100\n",
    "NCExpected = 100 - YCExpected\n",
    "\n",
    "# We then create the matrices that we will perform our Chi-Squared test on.\n",
    "\n",
    "CObservedMatrix = [YCGroups, NCGroups]\n",
    "CExpectedMatrix = [[YCExpected, YCExpected, YCExpected], [NCExpected, NCExpected, NCExpected]]\n",
    "\n",
    "print(stats.chisquare(CObservedMatrix, CExpectedMatrix))"
   ]
  },
  {
   "cell_type": "markdown",
   "metadata": {},
   "source": [
    "We computed p values of 0.59, 0.59, and 0.81, all failing to reject the null hypothesis at p < 0.05.\n",
    "\n",
    "This indicates that there was no significant difference between the Human-oriented, Incentivised, or Interaction groups and the control.\n",
    "\n",
    "To be certain that there was no influence whatsoever, we can perform the same test on Comp1 and Comp2 separately. "
   ]
  },
  {
   "cell_type": "code",
   "execution_count": 17,
   "metadata": {},
   "outputs": [
    {
     "name": "stdout",
     "output_type": "stream",
     "text": [
      "Power_divergenceResult(statistic=array([1.92307692, 2.51177394, 0.10265335]), pvalue=array([0.16551786, 0.11299867, 0.74866845]))\n"
     ]
    }
   ],
   "source": [
    "YC1Groups = [(survey.loc[survey['Group'] == 'Human', 'Comp1'].sum()/101) * 100,\n",
    "            (survey.loc[survey['Group'] == 'Incentive', 'Comp1'].sum()/101) * 100,\n",
    "            (survey.loc[survey['Group'] == 'Interaction', 'Comp1'].sum()/81)* 100]\n",
    "\n",
    "NC1Groups = [(100 - i) for i in YC1Groups]\n",
    "\n",
    "\n",
    "YC1Expected = (survey.loc[survey['Group'] == 'Control', 'Comp1'].sum()/101) * 100\n",
    "NC1Expected = 100 - YC1Expected\n",
    "\n",
    "C1ObservedMatrix = [YC1Groups, NC1Groups]\n",
    "C1ExpectedMatrix = [[YC1Expected, YC1Expected, YC1Expected], [NC1Expected, NC1Expected, NC1Expected]]\n",
    "\n",
    "print(stats.chisquare(C1ObservedMatrix, C1ExpectedMatrix))"
   ]
  },
  {
   "cell_type": "code",
   "execution_count": 18,
   "metadata": {},
   "outputs": [
    {
     "name": "stdout",
     "output_type": "stream",
     "text": [
      "Power_divergenceResult(statistic=array([0.34965035, 0.78671329, 0.02463434]), pvalue=array([0.55431113, 0.37509581, 0.87528166]))\n"
     ]
    }
   ],
   "source": [
    "YC2Groups = [(survey.loc[survey['Group'] == 'Human', 'Comp2'].sum()/101) * 100,\n",
    "            (survey.loc[survey['Group'] == 'Incentive', 'Comp2'].sum()/101) * 100,\n",
    "            (survey.loc[survey['Group'] == 'Interaction', 'Comp2'].sum()/81)* 100]\n",
    "\n",
    "NC2Groups = [(100 - i) for i in YC2Groups]\n",
    "\n",
    "YC2Expected = (survey.loc[survey['Group'] == 'Control', 'Comp2'].sum()/101) * 100\n",
    "NC2Expected = 100 - YC2Expected\n",
    "\n",
    "C2ObservedMatrix = [YC2Groups, NC2Groups]\n",
    "C2ExpectedMatrix = [[YC2Expected, YC2Expected, YC2Expected], [NC2Expected, NC2Expected, NC2Expected]]\n",
    "\n",
    "print(stats.chisquare(C2ObservedMatrix, C2ExpectedMatrix))"
   ]
  },
  {
   "cell_type": "markdown",
   "metadata": {},
   "source": [
    "These two results corroborate our initial assessment, and therefore we can conclude that there is no influence on the comprehension of Dilma's products based on the call centre group."
   ]
  },
  {
   "cell_type": "markdown",
   "metadata": {},
   "source": [
    "## Which method (or combination) had the highest likelihood of customers recommending DS to their friends?"
   ]
  },
  {
   "cell_type": "markdown",
   "metadata": {},
   "source": [
    "Answering this is particularly straightforward, given that there is a binomial survey question prompting the customer to reply \"Yes\" or \"No\", Q8.\n",
    "\n",
    "As we previously described in the comprehension question, we interpret binomial data through Chi-Squared tests, and in this case, it's no different.\n",
    "\n",
    "Fortunately, we've already converted column Q8 into a binomial 1 or 0. We will use the same procedure to compute our Chi-Squared results.\n",
    "\n",
    "We can observe the means of our relevant columns once again."
   ]
  },
  {
   "cell_type": "code",
   "execution_count": 19,
   "metadata": {},
   "outputs": [
    {
     "data": {
      "text/html": [
       "<div>\n",
       "<style scoped>\n",
       "    .dataframe tbody tr th:only-of-type {\n",
       "        vertical-align: middle;\n",
       "    }\n",
       "\n",
       "    .dataframe tbody tr th {\n",
       "        vertical-align: top;\n",
       "    }\n",
       "\n",
       "    .dataframe thead th {\n",
       "        text-align: right;\n",
       "    }\n",
       "</style>\n",
       "<table border=\"1\" class=\"dataframe\">\n",
       "  <thead>\n",
       "    <tr style=\"text-align: right;\">\n",
       "      <th></th>\n",
       "      <th>Q8</th>\n",
       "    </tr>\n",
       "    <tr>\n",
       "      <th>Group</th>\n",
       "      <th></th>\n",
       "    </tr>\n",
       "  </thead>\n",
       "  <tbody>\n",
       "    <tr>\n",
       "      <th>Control</th>\n",
       "      <td>0.435644</td>\n",
       "    </tr>\n",
       "    <tr>\n",
       "      <th>Human</th>\n",
       "      <td>0.633663</td>\n",
       "    </tr>\n",
       "    <tr>\n",
       "      <th>Incentive</th>\n",
       "      <td>0.722772</td>\n",
       "    </tr>\n",
       "    <tr>\n",
       "      <th>Interaction</th>\n",
       "      <td>0.580247</td>\n",
       "    </tr>\n",
       "  </tbody>\n",
       "</table>\n",
       "</div>"
      ],
      "text/plain": [
       "                   Q8\n",
       "Group                \n",
       "Control      0.435644\n",
       "Human        0.633663\n",
       "Incentive    0.722772\n",
       "Interaction  0.580247"
      ]
     },
     "execution_count": 19,
     "metadata": {},
     "output_type": "execute_result"
    }
   ],
   "source": [
    "survey.groupby('Group').mean()[['Q8']]"
   ]
  },
  {
   "cell_type": "markdown",
   "metadata": {},
   "source": [
    "All three groups appear to have been positively influenced the likelihood of whether a customer would recommend Dilma's to a friend. The Incentive based approach appears to have been most effective, followed by the Human group, and then the Interaction group.\n",
    "\n",
    "We will verify this with Chi-Squared."
   ]
  },
  {
   "cell_type": "code",
   "execution_count": 20,
   "metadata": {},
   "outputs": [
    {
     "name": "stdout",
     "output_type": "stream",
     "text": [
      "Power_divergenceResult(statistic=array([15.94896332, 33.53269537,  8.50495303]), pvalue=array([6.50734073e-05, 7.00760614e-09, 3.54181055e-03]))\n"
     ]
    }
   ],
   "source": [
    "YQ8Groups = [(survey.loc[survey['Group'] == 'Human', 'Q8'].sum()/101) * 100,\n",
    "            (survey.loc[survey['Group'] == 'Incentive', 'Q8'].sum()/101) * 100,\n",
    "            (survey.loc[survey['Group'] == 'Interaction', 'Q8'].sum()/81)* 100]\n",
    "\n",
    "NQ8Groups = [(100 - i) for i in YQ8Groups]\n",
    "\n",
    "YExpected = (survey.loc[survey['Group'] == 'Control', 'Q8'].sum()/101) * 100\n",
    "NExpected = 100 - YExpected\n",
    "\n",
    "ObservedMatrix = [YQ8Groups, NQ8Groups]\n",
    "ExpectedMatrix = [[YExpected, YExpected, YExpected], [NExpected, NExpected, NExpected]]\n",
    "\n",
    "print(stats.chisquare(ObservedMatrix, ExpectedMatrix))"
   ]
  },
  {
   "cell_type": "markdown",
   "metadata": {},
   "source": [
    "With the p values all comfortably below 0.05, the Chi statistic shows us that the most effective treatment was the Incentive based approach, followed by the Human, and the Interaction. This corroborates our results as we saw them with various means. We can visualise this with a significance plot."
   ]
  },
  {
   "cell_type": "markdown",
   "metadata": {},
   "source": [
    "## Concluding Remarks"
   ]
  },
  {
   "cell_type": "markdown",
   "metadata": {},
   "source": [
    "Through our investigation, we deduced with statistical significance three conclusions.\n",
    "\n",
    "1. Human-oriented training most improved customer perception of Dilma's, followed very closely by Incenvisation.\n",
    "2. There were no significant differences between both or either call centre approaches on customer comprehension.\n",
    "3. Incentivisation was the most likely approach to lead to a recommendation to a friend.\n",
    "\n",
    "Given the above factors, it is suggested that Dilma's Socks implements an **incentivised-based approach** as opposed to human-oriented training approach. The benefits to using the human-oriented approach over the Incentivised approach are very slight in terms of customer perception and offer marked advantages in the likelihood of a recommendation. There was no advantage to using both methods in conjunction.\n",
    "\n",
    "Here is an abridged version of our data after processing."
   ]
  },
  {
   "cell_type": "code",
   "execution_count": 21,
   "metadata": {},
   "outputs": [
    {
     "data": {
      "text/html": [
       "<div>\n",
       "<style scoped>\n",
       "    .dataframe tbody tr th:only-of-type {\n",
       "        vertical-align: middle;\n",
       "    }\n",
       "\n",
       "    .dataframe tbody tr th {\n",
       "        vertical-align: top;\n",
       "    }\n",
       "\n",
       "    .dataframe thead th {\n",
       "        text-align: right;\n",
       "    }\n",
       "</style>\n",
       "<table border=\"1\" class=\"dataframe\">\n",
       "  <thead>\n",
       "    <tr style=\"text-align: right;\">\n",
       "      <th></th>\n",
       "      <th>Q5</th>\n",
       "      <th>Q6</th>\n",
       "      <th>Q7</th>\n",
       "      <th>PAvg</th>\n",
       "      <th>Q8</th>\n",
       "      <th>Comp1</th>\n",
       "      <th>Comp2</th>\n",
       "      <th>CompAvg</th>\n",
       "    </tr>\n",
       "  </thead>\n",
       "  <tbody>\n",
       "    <tr>\n",
       "      <th>0</th>\n",
       "      <td>5</td>\n",
       "      <td>5</td>\n",
       "      <td>5</td>\n",
       "      <td>5.000000</td>\n",
       "      <td>1</td>\n",
       "      <td>0.0</td>\n",
       "      <td>0.0</td>\n",
       "      <td>0.0</td>\n",
       "    </tr>\n",
       "    <tr>\n",
       "      <th>1</th>\n",
       "      <td>5</td>\n",
       "      <td>5</td>\n",
       "      <td>5</td>\n",
       "      <td>5.000000</td>\n",
       "      <td>0</td>\n",
       "      <td>0.0</td>\n",
       "      <td>0.0</td>\n",
       "      <td>0.0</td>\n",
       "    </tr>\n",
       "    <tr>\n",
       "      <th>2</th>\n",
       "      <td>3</td>\n",
       "      <td>4</td>\n",
       "      <td>4</td>\n",
       "      <td>3.666667</td>\n",
       "      <td>0</td>\n",
       "      <td>1.0</td>\n",
       "      <td>0.0</td>\n",
       "      <td>0.5</td>\n",
       "    </tr>\n",
       "    <tr>\n",
       "      <th>3</th>\n",
       "      <td>3</td>\n",
       "      <td>2</td>\n",
       "      <td>2</td>\n",
       "      <td>2.333333</td>\n",
       "      <td>1</td>\n",
       "      <td>0.0</td>\n",
       "      <td>0.0</td>\n",
       "      <td>0.0</td>\n",
       "    </tr>\n",
       "    <tr>\n",
       "      <th>4</th>\n",
       "      <td>4</td>\n",
       "      <td>4</td>\n",
       "      <td>3</td>\n",
       "      <td>3.666667</td>\n",
       "      <td>0</td>\n",
       "      <td>0.0</td>\n",
       "      <td>0.0</td>\n",
       "      <td>0.0</td>\n",
       "    </tr>\n",
       "  </tbody>\n",
       "</table>\n",
       "</div>"
      ],
      "text/plain": [
       "   Q5  Q6  Q7      PAvg  Q8  Comp1  Comp2  CompAvg\n",
       "0   5   5   5  5.000000   1    0.0    0.0      0.0\n",
       "1   5   5   5  5.000000   0    0.0    0.0      0.0\n",
       "2   3   4   4  3.666667   0    1.0    0.0      0.5\n",
       "3   3   2   2  2.333333   1    0.0    0.0      0.0\n",
       "4   4   4   3  3.666667   0    0.0    0.0      0.0"
      ]
     },
     "execution_count": 21,
     "metadata": {},
     "output_type": "execute_result"
    }
   ],
   "source": [
    "relevantcols = ['Q5', 'Q6', 'Q7', 'PAvg', 'Q8', 'Comp1', 'Comp2', 'CompAvg']\n",
    "survey[relevantcols].head()"
   ]
  }
 ],
 "metadata": {
  "kernelspec": {
   "display_name": "Python 3",
   "language": "python",
   "name": "python3"
  },
  "language_info": {
   "codemirror_mode": {
    "name": "ipython",
    "version": 3
   },
   "file_extension": ".py",
   "mimetype": "text/x-python",
   "name": "python",
   "nbconvert_exporter": "python",
   "pygments_lexer": "ipython3",
   "version": "3.6.7"
  }
 },
 "nbformat": 4,
 "nbformat_minor": 2
}
